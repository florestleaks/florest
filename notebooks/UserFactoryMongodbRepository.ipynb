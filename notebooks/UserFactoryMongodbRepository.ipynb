{
 "cells": [
  {
   "cell_type": "code",
   "execution_count": 2,
   "id": "a0fc2cc9-e112-41f1-b402-a7d067510a9e",
   "metadata": {},
   "outputs": [],
   "source": [
    "from florest.user.drivers.database.nosql.mongodb_driver import MongodbUserRepository\n",
    "from florest.user.entities import User\n",
    "from florest.user.factory.database.nosql.factory_user_mongo import UserFactoryMongodbRepository\n",
    "\n"
   ]
  },
  {
   "cell_type": "code",
   "execution_count": 3,
   "id": "354d6957-b762-4fc7-a01c-e3b6f80f9d82",
   "metadata": {},
   "outputs": [],
   "source": [
    "\n",
    "repo = MongodbUserRepository(\"mongodb://localhost:27017/\", \"user_database\", \"users_collection\")\n",
    "user_factory = UserFactoryMongodbRepository(repo)\n"
   ]
  },
  {
   "cell_type": "code",
   "execution_count": 4,
   "id": "3cac4394-4604-4e9d-96b1-37d05c2871cb",
   "metadata": {},
   "outputs": [
    {
     "name": "stdout",
     "output_type": "stream",
     "text": [
      "User John Doe added successfully with email: john.doe@example.com\n"
     ]
    }
   ],
   "source": [
    "\n",
    "# 1. Creating a user\n",
    "response_create = user_factory.create_user(name=\"John Doe\", email=\"john.doe@example.com\")\n",
    "print(response_create)\n"
   ]
  },
  {
   "cell_type": "code",
   "execution_count": 5,
   "id": "33a098c1-2f1a-4157-aceb-3d534c3edfcf",
   "metadata": {},
   "outputs": [
    {
     "name": "stdout",
     "output_type": "stream",
     "text": [
      "User john.doe@example.com updated successfully.\n"
     ]
    }
   ],
   "source": [
    "\n",
    "# 2. Updating a user\n",
    "# (For simplicity, let's change the name of the previously created user)\n",
    "user_to_update = User(name=\"Johnathan Doe\", email=\"john.doe@example.com\")\n",
    "response_update = user_factory.update_user(user_to_update)\n",
    "print(response_update)\n"
   ]
  },
  {
   "cell_type": "code",
   "execution_count": 6,
   "id": "48eb3a5e-fcd1-4fe9-ba6f-8b357cf0aa50",
   "metadata": {},
   "outputs": [
    {
     "name": "stdout",
     "output_type": "stream",
     "text": [
      "Users in the system: [User(name='Johnathan Doe', email='john.doe@example.com')]\n"
     ]
    }
   ],
   "source": [
    "\n",
    "# 3. Listing all users\n",
    "users_list = user_factory.list_all_users()\n",
    "print(f\"Users in the system: {users_list}\")\n"
   ]
  },
  {
   "cell_type": "code",
   "execution_count": 7,
   "id": "9c104716-a4ad-4b06-a660-5bd695b344fd",
   "metadata": {},
   "outputs": [
    {
     "name": "stdout",
     "output_type": "stream",
     "text": [
      "User(name='Johnathan Doe', email='john.doe@example.com')\n"
     ]
    }
   ],
   "source": [
    "\n",
    "# 4. Finding a user by email\n",
    "response_find = user_factory.find_user_by_email(email=\"john.doe@example.com\")\n",
    "print(response_find)\n"
   ]
  },
  {
   "cell_type": "code",
   "execution_count": 8,
   "id": "b58424fd-0e48-43c9-bedb-726a7e3afdc1",
   "metadata": {},
   "outputs": [
    {
     "name": "stdout",
     "output_type": "stream",
     "text": [
      "User found based on criteria: Name: Johnathan Doe, Email: john.doe@example.com\n"
     ]
    }
   ],
   "source": [
    "\n",
    "# 5. Using some criteria to get a user (This depends on the actual 'get_user' use case)\n",
    "# As an example, let's find a user by email\n",
    "user_criteria = {\"email\": \"john.doe@example.com\"}\n",
    "found_user = user_factory.get_user(criteria=user_criteria)\n",
    "\n",
    "if found_user:\n",
    "    print(f\"User found based on criteria: Name: {found_user.name}, Email: {found_user.email}\")\n",
    "else:\n",
    "    print(\"User not found based on criteria.\")\n"
   ]
  },
  {
   "cell_type": "code",
   "execution_count": 9,
   "id": "2b5d566e-2724-4967-a2db-fa76945e0786",
   "metadata": {},
   "outputs": [
    {
     "name": "stdout",
     "output_type": "stream",
     "text": [
      "Bulk users added successfully.\n"
     ]
    }
   ],
   "source": [
    "\n",
    "# 6. Bulk operations\n",
    "# Adding multiple users in bulk\n",
    "users_bulk = [\n",
    "    User(name=\"Jane Smith\", email=\"jane.smith@example.com\"),\n",
    "    User(name=\"Alice Johnson\", email=\"alice.johnson@example.com\"),\n",
    "    User(name=\"Bob Brown\", email=\"bob.brown@example.com\"),\n",
    "]\n",
    "response_bulk_add = user_factory.bulk_user_create(users_bulk)\n",
    "print(response_bulk_add)\n"
   ]
  },
  {
   "cell_type": "code",
   "execution_count": 10,
   "id": "71fc1f8a-59df-488f-ab1e-df841ced51b7",
   "metadata": {},
   "outputs": [
    {
     "name": "stdout",
     "output_type": "stream",
     "text": [
      "Bulk users updated successfully.\n"
     ]
    }
   ],
   "source": [
    "\n",
    "# Updating multiple users in bulk (Changing names as an example)\n",
    "users_bulk_update = [\n",
    "    User(name=\"Jane S.\", email=\"jane.smith@example.com\"),\n",
    "    User(name=\"Alice J.\", email=\"alice.johnson@example.com\"),\n",
    "    User(name=\"Bob B.\", email=\"bob.brown@example.com\"),\n",
    "]\n",
    "response_bulk_update = user_factory.bulk_user_update(users_bulk_update)\n",
    "print(response_bulk_update)\n"
   ]
  },
  {
   "cell_type": "code",
   "execution_count": 11,
   "id": "3621b712-a2e3-43a5-9092-94be159bcdbd",
   "metadata": {},
   "outputs": [
    {
     "name": "stdout",
     "output_type": "stream",
     "text": [
      "Bulk users deleted successfully.\n"
     ]
    }
   ],
   "source": [
    "\n",
    "emails_to_delete = [\"bob.brown@example.com\"]\n",
    "response = user_factory.bulk_user_delete(emails_to_delete)\n",
    "print(response)"
   ]
  },
  {
   "cell_type": "code",
   "execution_count": null,
   "id": "54e44c3f-10c8-4432-93a3-0db523597877",
   "metadata": {},
   "outputs": [],
   "source": []
  },
  {
   "cell_type": "code",
   "execution_count": null,
   "id": "4bcb2a9f-db59-4b73-816b-5aab23bdf4f1",
   "metadata": {},
   "outputs": [],
   "source": []
  },
  {
   "cell_type": "code",
   "execution_count": null,
   "id": "e652c5da-c7d8-4deb-bb47-a5f4eb48181e",
   "metadata": {},
   "outputs": [],
   "source": []
  },
  {
   "cell_type": "code",
   "execution_count": null,
   "id": "fe9faf20-348b-47ee-87df-6e5a4d8283e0",
   "metadata": {},
   "outputs": [],
   "source": []
  }
 ],
 "metadata": {
  "kernelspec": {
   "display_name": "Python 3 (ipykernel)",
   "language": "python",
   "name": "python3"
  },
  "language_info": {
   "codemirror_mode": {
    "name": "ipython",
    "version": 3
   },
   "file_extension": ".py",
   "mimetype": "text/x-python",
   "name": "python",
   "nbconvert_exporter": "python",
   "pygments_lexer": "ipython3",
   "version": "3.11.5"
  }
 },
 "nbformat": 4,
 "nbformat_minor": 5
}
